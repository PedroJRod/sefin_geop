{
 "cells": [
  {
   "cell_type": "code",
   "execution_count": 1,
   "id": "9a8f87df",
   "metadata": {},
   "outputs": [],
   "source": [
    "import duckdb\n",
    "import pandas as pd\n",
    "import os"
   ]
  },
  {
   "cell_type": "code",
   "execution_count": 3,
   "id": "a53e9ae2",
   "metadata": {},
   "outputs": [
    {
     "name": "stdout",
     "output_type": "stream",
     "text": [
      "  ug_codigo                      descricao_ug  fonte_recurso  \\\n",
      "0    140001  SECRETARIA DE ESTADO DE FINANCAS          500.0   \n",
      "1    140001  SECRETARIA DE ESTADO DE FINANCAS          500.0   \n",
      "2    140001  SECRETARIA DE ESTADO DE FINANCAS          500.0   \n",
      "3    140001  SECRETARIA DE ESTADO DE FINANCAS          500.0   \n",
      "4    140001  SECRETARIA DE ESTADO DE FINANCAS          500.0   \n",
      "5    140001  SECRETARIA DE ESTADO DE FINANCAS          500.0   \n",
      "6    140001  SECRETARIA DE ESTADO DE FINANCAS          500.0   \n",
      "7    140001  SECRETARIA DE ESTADO DE FINANCAS          500.0   \n",
      "8    140001  SECRETARIA DE ESTADO DE FINANCAS          501.0   \n",
      "9    140001  SECRETARIA DE ESTADO DE FINANCAS          500.0   \n",
      "\n",
      "                        descricao_fonte  classificacao_ajustada  \\\n",
      "0  Recursos não Vinculados de Impostos.              11125101.0   \n",
      "1  Recursos não Vinculados de Impostos.              11125101.0   \n",
      "2  Recursos não Vinculados de Impostos.              11125102.0   \n",
      "3  Recursos não Vinculados de Impostos.              11125103.0   \n",
      "4  Recursos não Vinculados de Impostos.              11125104.0   \n",
      "5  Recursos não Vinculados de Impostos.              11125201.0   \n",
      "6  Recursos não Vinculados de Impostos.              11125201.0   \n",
      "7  Recursos não Vinculados de Impostos.              11125202.0   \n",
      "8        Outros Recursos não Vinculados              11125203.0   \n",
      "9  Recursos não Vinculados de Impostos.              11125203.0   \n",
      "\n",
      "  classificacao_intra                               nomenclatura_receita  \\\n",
      "0                None  Imposto sobre a Propriedade de Veículos Automo...   \n",
      "1                None  RENÚNCIA POTENCIAL - Imposto sobre a Proprieda...   \n",
      "2                None  Imposto sobre a Propriedade de Veículos Automo...   \n",
      "3                None  Imposto sobre a Propriedade de Veículos Automo...   \n",
      "4                None  Imposto sobre a Propriedade de Veículos Automo...   \n",
      "5                None  Imposto sobre Transmissão “Causa Mortis” e Doa...   \n",
      "6                None  Imposto sobre Transmissão “Causa Mortis” e Doa...   \n",
      "7                None  Imposto sobre Transmissão “Causa Mortis” e Doa...   \n",
      "8                None                        ITCMD Dívida Ativa - Estado   \n",
      "9                None                        ITCMD Dívida Ativa - Estado   \n",
      "\n",
      "             rec_grupo        rec_subgrupo     metodo_principal   ano  mes  \\\n",
      "0        Receita Bruta    Receita Estimada           IPCA + PIB  2023    1   \n",
      "1  Deduções da Receita  Renúncia Potencial  RENÚNCIA POTENCIAL   2023    1   \n",
      "2        Receita Bruta    Receita Estimada         IPCA + PIB m  2023    1   \n",
      "3        Receita Bruta    Receita Estimada         IPCA + PIB m  2023    1   \n",
      "4        Receita Bruta    Receita Estimada         IPCA + PIB m  2023    1   \n",
      "5        Receita Bruta    Receita Estimada                  MQO  2023    1   \n",
      "6  Deduções da Receita  Renúncia Potencial  RENÚNCIA POTENCIAL   2023    1   \n",
      "7        Receita Bruta    Receita Estimada                  MQO  2023    1   \n",
      "8        Receita Bruta    Receita Estimada         NÃO PROJETAR  2023    1   \n",
      "9        Receita Bruta    Receita Estimada         NÃO PROJETAR  2023    1   \n",
      "\n",
      "         valor  \n",
      "0  56711265.78  \n",
      "1         0.00  \n",
      "2   1853791.81  \n",
      "3   1731592.18  \n",
      "4    676335.36  \n",
      "5   1622645.15  \n",
      "6         0.00  \n",
      "7     18481.31  \n",
      "8     15256.33  \n",
      "9         0.00  \n"
     ]
    }
   ],
   "source": [
    "con = duckdb.connect(database=':memory:')\n",
    "\n",
    "# Cria tabela no DuckDB a partir do parquet\n",
    "con.execute(f\"\"\"\n",
    "    CREATE TABLE estimativa_cre AS \n",
    "    SELECT * FROM 'data/processed/estimativa_cre_16-06-25.parquet'\n",
    "\"\"\")\n",
    "\n",
    "# Consulta inicial (pode ser LIMIT 10 para preview)\n",
    "df_duck = con.execute(\"SELECT * FROM estimativa_cre LIMIT 10\").df()\n",
    "\n",
    "print(df_duck)"
   ]
  },
  {
   "cell_type": "code",
   "execution_count": null,
   "id": "c7529e22",
   "metadata": {},
   "outputs": [
    {
     "ename": "IOException",
     "evalue": "IO Error: No files found that match the pattern \"data/estimativa_cre.parquet\"",
     "output_type": "error",
     "traceback": [
      "\u001b[31m---------------------------------------------------------------------------\u001b[39m",
      "\u001b[31mIOException\u001b[39m                               Traceback (most recent call last)",
      "\u001b[36mCell\u001b[39m\u001b[36m \u001b[39m\u001b[32mIn[7]\u001b[39m\u001b[32m, line 9\u001b[39m\n\u001b[32m      6\u001b[39m con = duckdb.connect(database=\u001b[33m\"\u001b[39m\u001b[33m:memory:\u001b[39m\u001b[33m\"\u001b[39m)\n\u001b[32m      8\u001b[39m \u001b[38;5;66;03m# Cria tabela a partir do Parquet (nome lógico: estimativa_cre)\u001b[39;00m\n\u001b[32m----> \u001b[39m\u001b[32m9\u001b[39m \u001b[43mcon\u001b[49m\u001b[43m.\u001b[49m\u001b[43mexecute\u001b[49m\u001b[43m(\u001b[49m\u001b[33;43m\"\"\"\u001b[39;49m\n\u001b[32m     10\u001b[39m \u001b[33;43m    CREATE TABLE estimativa_cre AS \u001b[39;49m\n\u001b[32m     11\u001b[39m \u001b[33;43m    SELECT * FROM \u001b[39;49m\u001b[33;43m'\u001b[39;49m\u001b[33;43mdata/estimativa_cre.parquet\u001b[39;49m\u001b[33;43m'\u001b[39;49m\n\u001b[32m     12\u001b[39m \u001b[33;43m\"\"\"\u001b[39;49m\u001b[43m)\u001b[49m\n\u001b[32m     14\u001b[39m \u001b[38;5;66;03m# DataFrame com preview das colunas (para enviar ao prompt)\u001b[39;00m\n\u001b[32m     15\u001b[39m df_duck = con.execute(\u001b[33m\"\u001b[39m\u001b[33mSELECT * FROM estimativa_cre LIMIT 5\u001b[39m\u001b[33m\"\u001b[39m).df()\n",
      "\u001b[31mIOException\u001b[39m: IO Error: No files found that match the pattern \"data/estimativa_cre.parquet\""
     ]
    }
   ],
   "source": [
    "from openai import OpenAI\n",
    "\n",
    "# ========================\n",
    "# 1. Conexão DuckDB e carregamento do Parquet\n",
    "# ========================\n",
    "con = duckdb.connect(database=\":memory:\")\n",
    "\n",
    "# Cria tabela a partir do Parquet (nome lógico: estimativa_cre)\n",
    "con.execute(\"\"\"\n",
    "    CREATE TABLE estimativa_cre AS \n",
    "    SELECT * FROM 'data/processed/estimativa_cre_16-06-25.parquet'\n",
    "\"\"\")\n",
    "\n",
    "# DataFrame com preview das colunas (para enviar ao prompt)\n",
    "df_duck = con.execute(\"SELECT * FROM estimativa_cre LIMIT 5\").df()\n",
    "\n",
    "# ========================\n",
    "# 2. Conexão com modelo da HuggingFace\n",
    "# ========================\n",
    "client = OpenAI(\n",
    "    base_url=\"https://router.huggingface.co/v1\",\n",
    "    api_key=os.getenv(\"HF_TOKEN\"),\n",
    ")\n",
    "\n",
    "# ========================\n",
    "# 3. Função de consulta via IA\n",
    "# ========================\n",
    "def consulta_ia(pergunta: str):\n",
    "    prompt = f\"\"\"\n",
    "    Você é um assistente que gera consultas SQL para DuckDB.\n",
    "    A tabela disponível se chama 'estimativa_cre' e tem as seguintes colunas:\n",
    "    {', '.join(df_duck.columns.tolist())}\n",
    "\n",
    "    Pergunta do usuário: {pergunta}\n",
    "\n",
    "    Responda apenas com a SQL.\n",
    "    \"\"\"\n",
    "\n",
    "    response = client.chat.completions.create(\n",
    "        model=\"meta-llama/Meta-Llama-3-8B-Instruct\",\n",
    "        messages=[{\"role\": \"user\", \"content\": prompt}],\n",
    "        max_tokens=300,\n",
    "        temperature=0,\n",
    "    )\n",
    "\n",
    "    query = response.choices[0].message.content.strip()\n",
    "\n",
    "    # Executa a query no DuckDB\n",
    "    try:\n",
    "        resultado = con.execute(query).fetchdf()\n",
    "        return query, resultado\n",
    "    except Exception as e:\n",
    "        return query, f\"Erro ao executar SQL: {e}\""
   ]
  },
  {
   "cell_type": "code",
   "execution_count": 16,
   "id": "ea0ec056",
   "metadata": {},
   "outputs": [
    {
     "name": "stdout",
     "output_type": "stream",
     "text": [
      "Query usada:\n",
      " SELECT ano, SUM(valor) AS total_arrecadado \n",
      "FROM estimativa_cre \n",
      "WHERE nova_fonte = 500 \n",
      "GROUP BY ano\n",
      "\n",
      "Resultado:\n",
      "     ano  total_arrecadado\n",
      "0  2023      8.622825e+09\n",
      "1  2024      1.002981e+10\n",
      "2  2025      1.069943e+10\n",
      "3  2026      1.127532e+10\n",
      "4  2027      1.216892e+10\n"
     ]
    }
   ],
   "source": [
    "query, resultado = consulta_ia(\"O total arrecadado por ano da fonte 500\")\n",
    "print(\"Query usada:\\n\", query)\n",
    "print(\"\\nResultado:\\n\", resultado)"
   ]
  },
  {
   "cell_type": "code",
   "execution_count": null,
   "id": "63800560",
   "metadata": {},
   "outputs": [],
   "source": []
  }
 ],
 "metadata": {
  "kernelspec": {
   "display_name": "condavenv",
   "language": "python",
   "name": "python3"
  },
  "language_info": {
   "codemirror_mode": {
    "name": "ipython",
    "version": 3
   },
   "file_extension": ".py",
   "mimetype": "text/x-python",
   "name": "python",
   "nbconvert_exporter": "python",
   "pygments_lexer": "ipython3",
   "version": "3.11.13"
  }
 },
 "nbformat": 4,
 "nbformat_minor": 5
}
