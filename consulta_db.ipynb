{
 "cells": [
  {
   "cell_type": "code",
   "execution_count": 3,
   "id": "12e35be5",
   "metadata": {},
   "outputs": [],
   "source": [
    "import os\n",
    "import pandas as pd\n",
    "from sqlalchemy import create_engine\n",
    "from dotenv import load_dotenv\n",
    "\n",
    "# Carrega variáveis de ambiente\n",
    "load_dotenv()\n",
    "\n",
    "def get_oracle_engine() -> create_engine:\n",
    "    \"\"\"Cria conexão com Oracle a partir das variáveis de ambiente.\"\"\"\n",
    "    user = os.getenv(\"ORACLE_USER\")\n",
    "    password = os.getenv(\"ORACLE_PASSWORD\")\n",
    "    host = os.getenv(\"ORACLE_HOST\")\n",
    "    port = os.getenv(\"ORACLE_PORT\", \"1521\")\n",
    "    service_name = os.getenv(\"ORACLE_SERVICE\")\n",
    "    \n",
    "    if not all([user, password, host, service_name]):\n",
    "        raise ValueError(\"Verifique as variáveis de ambiente do Oracle.\")\n",
    "    \n",
    "    connection_string = f\"oracle+oracledb://{user}:{password}@{host}:{port}/?service_name={service_name}\"\n",
    "    return create_engine(connection_string)\n",
    "\n",
    "def get_sqlite_engine(db_path: str) -> create_engine:\n",
    "    \"\"\"Cria conexão com SQLite.\"\"\"\n",
    "    return create_engine(f\"sqlite:///{db_path}\")\n",
    "\n",
    "def consultar_oracle(query: str, oracle_engine: create_engine) -> pd.DataFrame:\n",
    "    \"\"\"Executa query no Oracle e retorna DataFrame.\"\"\"\n",
    "    with oracle_engine.connect() as conn:\n",
    "        df = pd.read_sql(query, con=conn)\n",
    "    return df\n",
    "\n",
    "def salvar_dados(df: pd.DataFrame, sqlite_engine: create_engine, nome_tabela: str, export_csv: bool = True):\n",
    "    \"\"\"Salva DataFrame em SQLite e opcionalmente em CSV.\"\"\"\n",
    "    with sqlite_engine.connect() as conn:\n",
    "        df.to_sql(nome_tabela, con=conn, if_exists=\"replace\", index=False)\n",
    "    if export_csv:\n",
    "        df.to_csv(f\"data/{nome_tabela}.csv\", index=False, encoding='utf-8-sig')\n",
    "\n",
    "oracle_engine = get_oracle_engine()\n",
    "sqlite_engine = get_sqlite_engine(\"data/dados.db\")"
   ]
  },
  {
   "cell_type": "code",
   "execution_count": 4,
   "id": "174fe0d2",
   "metadata": {},
   "outputs": [
    {
     "name": "stdout",
     "output_type": "stream",
     "text": [
      "    sigef_db data_lancamento         id_unidade_gestora_gestao  \\\n",
      "0  SIGEF2024      2024-07-19  EB3D5A8F422494D32E19DAED25D59B0A   \n",
      "1  SIGEF2024      2024-07-19  EB3D5A8F422494D32E19DAED25D59B0A   \n",
      "2  SIGEF2024      2024-07-19  EB3D5A8F422494D32E19DAED25D59B0A   \n",
      "3  SIGEF2024      2024-07-19  EB3D5A8F422494D32E19DAED25D59B0A   \n",
      "4  SIGEF2024      2024-07-19  EB3D5A8F422494D32E19DAED25D59B0A   \n",
      "\n",
      "                   id_fonte_recurso               id_natureza_receita  \\\n",
      "0  053F3FFFD52D585E61E90EC9C06D8964  74FDDBB1A7A1AB59DBD6334731DF7CE9   \n",
      "1  053F3FFFD52D585E61E90EC9C06D8964  01ECC245F94A32FC8449F4B24D825F75   \n",
      "2  053F3FFFD52D585E61E90EC9C06D8964  74FDDBB1A7A1AB59DBD6334731DF7CE9   \n",
      "3  053F3FFFD52D585E61E90EC9C06D8964  3A66E1119B11543AB4071201EB9A758B   \n",
      "4  053F3FFFD52D585E61E90EC9C06D8964  96076B1FCC2A290F247BD4455677EF1D   \n",
      "\n",
      "                  id_conta_contabil                         id_evento  \\\n",
      "0  119155132F62BA6B82D88C464FF11214  393BA989502498A4C8A1EC0A960A3947   \n",
      "1  119155132F62BA6B82D88C464FF11214  393BA989502498A4C8A1EC0A960A3947   \n",
      "2  119155132F62BA6B82D88C464FF11214  393BA989502498A4C8A1EC0A960A3947   \n",
      "3  119155132F62BA6B82D88C464FF11214  393BA989502498A4C8A1EC0A960A3947   \n",
      "4  119155132F62BA6B82D88C464FF11214  393BA989502498A4C8A1EC0A960A3947   \n",
      "\n",
      "  numero_documento_prefixo numero_documento             agrupamento_anexo_10  \\\n",
      "0             140099-00001     2024NL029061  01 - Receita Orçamentária Bruta   \n",
      "1             140099-00001     2024NL029063  01 - Receita Orçamentária Bruta   \n",
      "2             140099-00001     2024NL029063  01 - Receita Orçamentária Bruta   \n",
      "3             140099-00001     2024NL029065  01 - Receita Orçamentária Bruta   \n",
      "4             140099-00001     2024NL029065  01 - Receita Orçamentária Bruta   \n",
      "\n",
      "   valor_receita_prevista_bruta  valor_receita_prevista_deducoes  \\\n",
      "0                           0.0                              0.0   \n",
      "1                           0.0                              0.0   \n",
      "2                           0.0                              0.0   \n",
      "3                           0.0                              0.0   \n",
      "4                           0.0                              0.0   \n",
      "\n",
      "   valor_alteracoes_receita_prevista_bruta  \\\n",
      "0                                      0.0   \n",
      "1                                      0.0   \n",
      "2                                      0.0   \n",
      "3                                      0.0   \n",
      "4                                      0.0   \n",
      "\n",
      "   valor_alteracoes_receita_prevista_deducoes  valor_receita_realizada_bruta  \\\n",
      "0                                         0.0                         525.49   \n",
      "1                                         0.0                        8249.49   \n",
      "2                                         0.0                          63.00   \n",
      "3                                         0.0                      144050.56   \n",
      "4                                         0.0                       26071.87   \n",
      "\n",
      "   valor_receita_realizada_deducoes  \n",
      "0                               0.0  \n",
      "1                               0.0  \n",
      "2                               0.0  \n",
      "3                               0.0  \n",
      "4                               0.0  \n"
     ]
    }
   ],
   "source": [
    "query = \"\"\"SELECT * FROM SIGEF_STAGE.STG_SIGEF__FATO__EXECUCAO_ORCAMENTARIA__RECEITA__DETALHE\"\"\"\n",
    "df = consultar_oracle(query, oracle_engine)\n",
    "print(df.head())  # Exibe as primeiras linhas do DataFrame\n"
   ]
  },
  {
   "cell_type": "code",
   "execution_count": 5,
   "id": "761b0cec",
   "metadata": {},
   "outputs": [
    {
     "name": "stdout",
     "output_type": "stream",
     "text": [
      "✅ Dados copiados com sucesso!\n"
     ]
    }
   ],
   "source": [
    "salvar_dados(df, sqlite_engine, nome_tabela=\"TESTE\")\n",
    "print(\"✅ Dados copiados com sucesso!\")"
   ]
  }
 ],
 "metadata": {
  "kernelspec": {
   "display_name": "venv",
   "language": "python",
   "name": "python3"
  },
  "language_info": {
   "codemirror_mode": {
    "name": "ipython",
    "version": 3
   },
   "file_extension": ".py",
   "mimetype": "text/x-python",
   "name": "python",
   "nbconvert_exporter": "python",
   "pygments_lexer": "ipython3",
   "version": "3.13.2"
  }
 },
 "nbformat": 4,
 "nbformat_minor": 5
}
