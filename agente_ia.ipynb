{
 "cells": [
  {
   "cell_type": "code",
   "execution_count": 2,
   "id": "bdf54910",
   "metadata": {},
   "outputs": [],
   "source": [
    "from openai import OpenAI\n",
    "import os\n",
    "from dotenv import load_dotenv\n",
    "\n",
    "# Inicialização do cliente Hugging Face/OpenAI\n",
    "def get_hf_client() -> OpenAI:\n",
    "    load_dotenv()\n",
    "    hf_token = os.getenv(\"HF_TOKEN\")\n",
    "    if not hf_token:\n",
    "        raise ValueError(\"Defina a variável HF_TOKEN no .env ou como variável de ambiente.\")\n",
    "    return OpenAI(\n",
    "        base_url=\"https://router.huggingface.co/v1\",\n",
    "        api_key=hf_token,\n",
    "    )\n",
    "\n",
    "# Função genérica para gerar texto a partir de um prompt\n",
    "def gerar_texto(prompt: str, model: str = \"meta-llama/Meta-Llama-3-8B-Instruct\") -> str:\n",
    "    client = get_hf_client()\n",
    "    response = client.chat.completions.create(\n",
    "        model=model,\n",
    "        messages=[{\"role\": \"user\", \"content\": prompt}],\n",
    "        max_tokens=400,\n",
    "        temperature=0.7,\n",
    "    )\n",
    "    return response.choices[0].message.content\n"
   ]
  },
  {
   "cell_type": "code",
   "execution_count": 3,
   "id": "685181ee",
   "metadata": {},
   "outputs": [
    {
     "name": "stdout",
     "output_type": "stream",
     "text": [
      "Por que o imposto foi ao terapeuta?\n",
      "\n",
      "Porque estava carregado de dívidas e precisava aliviar a carga!\n"
     ]
    }
   ],
   "source": [
    "piada = gerar_texto(\"Conte uma piada sobre tributos\")\n",
    "print(piada)"
   ]
  }
 ],
 "metadata": {
  "kernelspec": {
   "display_name": "venv",
   "language": "python",
   "name": "python3"
  },
  "language_info": {
   "codemirror_mode": {
    "name": "ipython",
    "version": 3
   },
   "file_extension": ".py",
   "mimetype": "text/x-python",
   "name": "python",
   "nbconvert_exporter": "python",
   "pygments_lexer": "ipython3",
   "version": "3.13.2"
  }
 },
 "nbformat": 4,
 "nbformat_minor": 5
}
