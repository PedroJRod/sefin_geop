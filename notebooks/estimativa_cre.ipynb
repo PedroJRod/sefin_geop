{
 "cells": [
  {
   "cell_type": "code",
   "execution_count": 5,
   "id": "9a8f87df",
   "metadata": {},
   "outputs": [],
   "source": [
    "import duckdb\n",
    "import pandas as pd\n",
    "import os"
   ]
  },
  {
   "cell_type": "code",
   "execution_count": 6,
   "id": "a53e9ae2",
   "metadata": {},
   "outputs": [
    {
     "ename": "IOException",
     "evalue": "IO Error: No files found that match the pattern \"data/estimativa_cre.parquet\"",
     "output_type": "error",
     "traceback": [
      "\u001b[31m---------------------------------------------------------------------------\u001b[39m",
      "\u001b[31mIOException\u001b[39m                               Traceback (most recent call last)",
      "\u001b[36mCell\u001b[39m\u001b[36m \u001b[39m\u001b[32mIn[6]\u001b[39m\u001b[32m, line 3\u001b[39m\n\u001b[32m      1\u001b[39m con = duckdb.connect(database=\u001b[33m'\u001b[39m\u001b[33m:memory:\u001b[39m\u001b[33m'\u001b[39m)\n\u001b[32m----> \u001b[39m\u001b[32m3\u001b[39m df_duck = \u001b[43mcon\u001b[49m\u001b[43m.\u001b[49m\u001b[43mexecute\u001b[49m\u001b[43m(\u001b[49m\u001b[33;43m\"\"\"\u001b[39;49m\n\u001b[32m      4\u001b[39m \u001b[33;43m    SELECT * FROM \u001b[39;49m\u001b[33;43m'\u001b[39;49m\u001b[33;43mdata/estimativa_cre.parquet\u001b[39;49m\u001b[33;43m'\u001b[39;49m\n\u001b[32m      5\u001b[39m \u001b[33;43m    \u001b[39;49m\u001b[33;43m\"\"\"\u001b[39;49m\u001b[43m)\u001b[49m.df()\n\u001b[32m      7\u001b[39m \u001b[38;5;28mprint\u001b[39m(df_duck)\n",
      "\u001b[31mIOException\u001b[39m: IO Error: No files found that match the pattern \"data/estimativa_cre.parquet\""
     ]
    }
   ],
   "source": [
    "con = duckdb.connect(database=':memory:')\n",
    "\n",
    "df_duck = con.execute(\"\"\"\n",
    "    SELECT * FROM 'data/estimativa_cre.parquet'\n",
    "    \"\"\").df()\n",
    "\n",
    "print(df_duck)"
   ]
  },
  {
   "cell_type": "code",
   "execution_count": 7,
   "id": "c7529e22",
   "metadata": {},
   "outputs": [
    {
     "ename": "IOException",
     "evalue": "IO Error: No files found that match the pattern \"data/estimativa_cre.parquet\"",
     "output_type": "error",
     "traceback": [
      "\u001b[31m---------------------------------------------------------------------------\u001b[39m",
      "\u001b[31mIOException\u001b[39m                               Traceback (most recent call last)",
      "\u001b[36mCell\u001b[39m\u001b[36m \u001b[39m\u001b[32mIn[7]\u001b[39m\u001b[32m, line 9\u001b[39m\n\u001b[32m      6\u001b[39m con = duckdb.connect(database=\u001b[33m\"\u001b[39m\u001b[33m:memory:\u001b[39m\u001b[33m\"\u001b[39m)\n\u001b[32m      8\u001b[39m \u001b[38;5;66;03m# Cria tabela a partir do Parquet (nome lógico: estimativa_cre)\u001b[39;00m\n\u001b[32m----> \u001b[39m\u001b[32m9\u001b[39m \u001b[43mcon\u001b[49m\u001b[43m.\u001b[49m\u001b[43mexecute\u001b[49m\u001b[43m(\u001b[49m\u001b[33;43m\"\"\"\u001b[39;49m\n\u001b[32m     10\u001b[39m \u001b[33;43m    CREATE TABLE estimativa_cre AS \u001b[39;49m\n\u001b[32m     11\u001b[39m \u001b[33;43m    SELECT * FROM \u001b[39;49m\u001b[33;43m'\u001b[39;49m\u001b[33;43mdata/estimativa_cre.parquet\u001b[39;49m\u001b[33;43m'\u001b[39;49m\n\u001b[32m     12\u001b[39m \u001b[33;43m\"\"\"\u001b[39;49m\u001b[43m)\u001b[49m\n\u001b[32m     14\u001b[39m \u001b[38;5;66;03m# DataFrame com preview das colunas (para enviar ao prompt)\u001b[39;00m\n\u001b[32m     15\u001b[39m df_duck = con.execute(\u001b[33m\"\u001b[39m\u001b[33mSELECT * FROM estimativa_cre LIMIT 5\u001b[39m\u001b[33m\"\u001b[39m).df()\n",
      "\u001b[31mIOException\u001b[39m: IO Error: No files found that match the pattern \"data/estimativa_cre.parquet\""
     ]
    }
   ],
   "source": [
    "from openai import OpenAI\n",
    "\n",
    "# ========================\n",
    "# 1. Conexão DuckDB e carregamento do Parquet\n",
    "# ========================\n",
    "con = duckdb.connect(database=\":memory:\")\n",
    "\n",
    "# Cria tabela a partir do Parquet (nome lógico: estimativa_cre)\n",
    "con.execute(\"\"\"\n",
    "    CREATE TABLE estimativa_cre AS \n",
    "    SELECT * FROM 'data/estimativa_cre.parquet'\n",
    "\"\"\")\n",
    "\n",
    "# DataFrame com preview das colunas (para enviar ao prompt)\n",
    "df_duck = con.execute(\"SELECT * FROM estimativa_cre LIMIT 5\").df()\n",
    "\n",
    "# ========================\n",
    "# 2. Conexão com modelo da HuggingFace\n",
    "# ========================\n",
    "client = OpenAI(\n",
    "    base_url=\"https://router.huggingface.co/v1\",\n",
    "    api_key=os.getenv(\"HF_TOKEN\"),\n",
    ")\n",
    "\n",
    "# ========================\n",
    "# 3. Função de consulta via IA\n",
    "# ========================\n",
    "def consulta_ia(pergunta: str):\n",
    "    prompt = f\"\"\"\n",
    "    Você é um assistente que gera consultas SQL para DuckDB.\n",
    "    A tabela disponível se chama 'estimativa_cre' e tem as seguintes colunas:\n",
    "    {', '.join(df_duck.columns.tolist())}\n",
    "\n",
    "    Pergunta do usuário: {pergunta}\n",
    "\n",
    "    Responda apenas com a SQL.\n",
    "    \"\"\"\n",
    "\n",
    "    response = client.chat.completions.create(\n",
    "        model=\"meta-llama/Meta-Llama-3-8B-Instruct\",\n",
    "        messages=[{\"role\": \"user\", \"content\": prompt}],\n",
    "        max_tokens=300,\n",
    "        temperature=0,\n",
    "    )\n",
    "\n",
    "    query = response.choices[0].message.content.strip()\n",
    "\n",
    "    # Executa a query no DuckDB\n",
    "    try:\n",
    "        resultado = con.execute(query).fetchdf()\n",
    "        return query, resultado\n",
    "    except Exception as e:\n",
    "        return query, f\"Erro ao executar SQL: {e}\""
   ]
  },
  {
   "cell_type": "code",
   "execution_count": 16,
   "id": "ea0ec056",
   "metadata": {},
   "outputs": [
    {
     "name": "stdout",
     "output_type": "stream",
     "text": [
      "Query usada:\n",
      " SELECT ano, SUM(valor) AS total_arrecadado \n",
      "FROM estimativa_cre \n",
      "WHERE nova_fonte = 500 \n",
      "GROUP BY ano\n",
      "\n",
      "Resultado:\n",
      "     ano  total_arrecadado\n",
      "0  2023      8.622825e+09\n",
      "1  2024      1.002981e+10\n",
      "2  2025      1.069943e+10\n",
      "3  2026      1.127532e+10\n",
      "4  2027      1.216892e+10\n"
     ]
    }
   ],
   "source": [
    "query, resultado = consulta_ia(\"O total arrecadado por ano da fonte 500\")\n",
    "print(\"Query usada:\\n\", query)\n",
    "print(\"\\nResultado:\\n\", resultado)"
   ]
  },
  {
   "cell_type": "code",
   "execution_count": null,
   "id": "63800560",
   "metadata": {},
   "outputs": [],
   "source": []
  }
 ],
 "metadata": {
  "kernelspec": {
   "display_name": "condavenv",
   "language": "python",
   "name": "python3"
  },
  "language_info": {
   "codemirror_mode": {
    "name": "ipython",
    "version": 3
   },
   "file_extension": ".py",
   "mimetype": "text/x-python",
   "name": "python",
   "nbconvert_exporter": "python",
   "pygments_lexer": "ipython3",
   "version": "3.11.11"
  }
 },
 "nbformat": 4,
 "nbformat_minor": 5
}
