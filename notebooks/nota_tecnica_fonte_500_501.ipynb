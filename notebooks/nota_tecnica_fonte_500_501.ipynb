{
 "cells": [
  {
   "cell_type": "code",
   "execution_count": null,
   "id": "9a8f87df",
   "metadata": {},
   "outputs": [],
   "source": [
    "import duckdb\n",
    "import pandas as pd\n",
    "import os\n",
    "\n",
    "PAI_DIR = os.getcwd()  # diretório atual para notebooks jupyter\n",
    "DATA_RAW = os.path.join(PAI_DIR, \"data\", \"raw\")\n",
    "DATA_PROCESSED = os.path.join(PAI_DIR, \"data\", \"processed\")\n",
    "SCRIPTS = os.path.join(PAI_DIR, \"scripts\")\n",
    "\n",
    "pd.set_option(\"display.float_format\", \"{:,.0f}\".format)"
   ]
  },
  {
   "cell_type": "code",
   "execution_count": null,
   "id": "f0741000",
   "metadata": {},
   "outputs": [],
   "source": [
    "!python {os.path.join(SCRIPTS, 'elt_execucao_orcamentaria.py')}"
   ]
  },
  {
   "cell_type": "code",
   "execution_count": null,
   "id": "4dba46a7",
   "metadata": {},
   "outputs": [],
   "source": [
    "con = duckdb.connect(database=':memory:')"
   ]
  },
  {
   "cell_type": "code",
   "execution_count": null,
   "id": "dfc4d845",
   "metadata": {},
   "outputs": [],
   "source": [
    "for arquivo in os.listdir(DATA_PROCESSED):\n",
    "    if arquivo.startswith(\"estimativa_cre_\") and arquivo.endswith(\".parquet\"):\n",
    "        caminho = os.path.join(DATA_PROCESSED, arquivo)\n",
    "\n",
    "        # Nome da tabela = nome do arquivo sem extensão\n",
    "        nome_tabela = os.path.splitext(arquivo)[0]\n",
    "\n",
    "        # Cria tabela no DuckDB (nome da tabela entre aspas duplas para aceitar hífens)\n",
    "        con.execute(f\"\"\"\n",
    "            CREATE TABLE IF NOT EXISTS \"{nome_tabela}\" AS \n",
    "            SELECT * FROM '{caminho}'\n",
    "            \"\"\")\n",
    "        print(f\"✅ Tabela {nome_tabela} criada a partir de {arquivo}\")"
   ]
  },
  {
   "cell_type": "code",
   "execution_count": null,
   "id": "a53e9ae2",
   "metadata": {},
   "outputs": [],
   "source": [
    "tabelas = [\n",
    "    \"STG_SIGEF__FATO__EXECUCAO_ORCAMENTARIA.parquet\",\n",
    "    \"STG_SIGEF__DIM__ACAO_PROGRAMA.parquet\",\n",
    "    \"STG_SIGEF__DIM__CONTA_CONTABIL.parquet\",\n",
    "    \"STG_SIGEF__DIM__CREDOR.parquet\",\n",
    "    \"STG_SIGEF__DIM__DOMICILIO_BANCARIO.parquet\",\n",
    "    \"STG_SIGEF__DIM__EVENTO.parquet\",\n",
    "    \"STG_SIGEF__DIM__FONTE_RECURSO.parquet\",\n",
    "    \"STG_SIGEF__DIM__GRUPO_PROGRAMACAO_FINANCEIRA.parquet\",\n",
    "    \"STG_SIGEF__DIM__NATUREZA_DESPESA.parquet\",\n",
    "    \"STG_SIGEF__DIM__NATUREZA_RECEITA.parquet\",\n",
    "    \"STG_SIGEF__DIM__UNIDADE_GESTORA_GESTAO.parquet\"\n",
    "]\n",
    "\n",
    "# Loop para criar as tabelas no DuckDB\n",
    "for arquivo in tabelas:\n",
    "    nome_tabela = os.path.splitext(arquivo)[0].lower()  # nome da tabela em minúsculo\n",
    "    caminho = os.path.join(DATA_RAW, arquivo)\n",
    "    con.execute(f\"\"\"\n",
    "        CREATE TABLE IF NOT EXISTS {nome_tabela} AS\n",
    "        SELECT * FROM '{caminho}'\n",
    "    \"\"\")\n",
    "    print(f\"Tabela '{nome_tabela}' criada com sucesso!\")"
   ]
  },
  {
   "cell_type": "code",
   "execution_count": null,
   "id": "bf4fb74e",
   "metadata": {},
   "outputs": [],
   "source": [
    "df_est = con.execute(\"SELECT * FROM 'estimativa_cre_12-08-25' where metodo_principal = 'IPCA + PIB m'\").df()\n",
    "\n",
    "df_est "
   ]
  },
  {
   "cell_type": "code",
   "execution_count": null,
   "id": "b09ef817",
   "metadata": {},
   "outputs": [],
   "source": [
    "df_est_500 = con.execute('SELECT mes, SUM(valor) FROM \"estimativa_cre_12-08-25\" WHERE fonte_recurso = 500 and ano = 2025 group by mes').df()\n",
    "df_est_500"
   ]
  },
  {
   "cell_type": "code",
   "execution_count": null,
   "id": "2b5d632e",
   "metadata": {},
   "outputs": [],
   "source": [
    "df_fato = con.execute(\"SELECT * FROM STG_SIGEF__FATO__EXECUCAO_ORCAMENTARIA LIMIT 2\").df()\n",
    "df_fato"
   ]
  },
  {
   "cell_type": "code",
   "execution_count": null,
   "id": "ea0aa497",
   "metadata": {},
   "outputs": [],
   "source": [
    "df_fonte = con.execute(\"SELECT * FROM stg_sigef__dim__fonte_recurso LIMIT 2\").df()\n",
    "df_fonte"
   ]
  },
  {
   "cell_type": "code",
   "execution_count": null,
   "id": "b0016cb1",
   "metadata": {},
   "outputs": [],
   "source": [
    "# Consulta inicial (pode ser LIMIT 10 para preview)\n",
    "df_duck = con.execute(\"\"\"\n",
    "    SELECT \n",
    "        EXTRACT(MONTH FROM a.MES_REFERENCIA) AS MES,\n",
    "        SUM(a.VALOR_RECEITA_PREVISTA_BRUTA_COTAS_MENSAIS+a.VALOR_RECEITA_PREVISTA_DEDUCOES_COTAS_MENSAIS) AS RECEITA_PREVISTA,\n",
    "        SUM(a.VALOR_RECEITA_REALIZADA_BRUTA+a.VALOR_RECEITA_REALIZADA_DEDUCOES) AS RECEITA_REALIZADA\n",
    "    FROM STG_SIGEF__FATO__EXECUCAO_ORCAMENTARIA a \n",
    "    JOIN stg_sigef__dim__fonte_recurso b \n",
    "        ON a.ID_FONTE_RECURSO = b.ID_FONTE_RECURSO\n",
    "    WHERE b.FONTE_REDUZIDO = 500\n",
    "        AND a.SIGEF_DB = 'SIGEF2025'\n",
    "    GROUP BY a.MES_REFERENCIA\n",
    "    ORDER BY EXTRACT(MONTH FROM a.MES_REFERENCIA)\n",
    "\"\"\").df()\n",
    "\n",
    "df_duck.head(13)"
   ]
  },
  {
   "cell_type": "code",
   "execution_count": null,
   "id": "9bce6efe",
   "metadata": {},
   "outputs": [],
   "source": [
    "df_teste = con.execute(\"\"\"\n",
    "    SELECT \n",
    "            mes AS MES,\n",
    "            SUM(valor) AS RECEITA_REALIZADA_EST\n",
    "        FROM \"estimativa_cre_12-08-25\"\n",
    "        WHERE fonte_recurso = 500\n",
    "            AND ano = 2025\n",
    "        GROUP BY mes\n",
    "    \"\"\").df()\n",
    "\n",
    "df_teste"
   ]
  },
  {
   "cell_type": "code",
   "execution_count": null,
   "id": "6f818cef",
   "metadata": {},
   "outputs": [],
   "source": [
    "df_final = con.execute(\"\"\"\n",
    "    WITH fato AS (\n",
    "        SELECT \n",
    "            EXTRACT(MONTH FROM a.MES_REFERENCIA) AS MES,\n",
    "            SUM(a.VALOR_RECEITA_PREVISTA_BRUTA_COTAS_MENSAIS + a.VALOR_RECEITA_PREVISTA_DEDUCOES_COTAS_MENSAIS) AS RECEITA_PREVISTA,\n",
    "            SUM(a.VALOR_RECEITA_REALIZADA_BRUTA + a.VALOR_RECEITA_REALIZADA_DEDUCOES) AS RECEITA_REALIZADA_FATO\n",
    "        FROM STG_SIGEF__FATO__EXECUCAO_ORCAMENTARIA a\n",
    "        JOIN stg_sigef__dim__fonte_recurso b\n",
    "            ON a.ID_FONTE_RECURSO = b.ID_FONTE_RECURSO\n",
    "        WHERE b.FONTE_REDUZIDO = 500\n",
    "            AND a.SIGEF_DB = 'SIGEF2025'\n",
    "        GROUP BY EXTRACT(MONTH FROM a.MES_REFERENCIA)\n",
    "    ),\n",
    "    est AS (\n",
    "        SELECT \n",
    "            mes AS MES,\n",
    "            SUM(valor) AS RECEITA_REALIZADA_EST\n",
    "        FROM \"estimativa_cre_12-08-25\"\n",
    "        WHERE fonte_recurso = 500\n",
    "            AND ano = 2025\n",
    "        GROUP BY mes\n",
    "    )\n",
    "    SELECT\n",
    "        f.MES,\n",
    "        f.RECEITA_PREVISTA,\n",
    "        CASE \n",
    "            WHEN f.MES >= 8 THEN e.RECEITA_REALIZADA_EST\n",
    "            ELSE f.RECEITA_REALIZADA_FATO\n",
    "        END AS RECEITA_REALIZADA,\n",
    "        ((RECEITA_REALIZADA - RECEITA_PREVISTA) / RECEITA_PREVISTA) * 100 AS PERCENTUAL_REALIZADO,\n",
    "        (RECEITA_REALIZADA - RECEITA_PREVISTA) AS DIFERENCA_VALOR\n",
    "    FROM fato f\n",
    "    LEFT JOIN est e\n",
    "        ON f.MES = e.MES\n",
    "    ORDER BY f.MES\n",
    "\"\"\").df()\n",
    "\n",
    "\n",
    "print(\"Tabela 2 - Previsão Atualizada x Receita Arrecadada/Projetada 2025 - Fonte 500\")\n",
    "df_final"
   ]
  },
  {
   "cell_type": "code",
   "execution_count": null,
   "id": "3f34da0b",
   "metadata": {},
   "outputs": [],
   "source": [
    "import matplotlib.pyplot as plt"
   ]
  },
  {
   "cell_type": "code",
   "execution_count": null,
   "id": "a684c9de",
   "metadata": {},
   "outputs": [],
   "source": [
    "plt.plot(df_final['MES'], df_final['RECEITA_PREVISTA'], marker='o', label='Receita Prevista', color='blue')\n",
    "plt.plot(df_final['MES'], df_final['RECEITA_REALIZADA'], marker='o', label='Receita Realizada', color='orange')\n",
    "plt.xlabel('Mês')\n",
    "plt.ylabel('Valor (R$)')\n",
    "plt.title('Receita Prevista vs Receita Realizada/Projetada - Fonte 500 (2025)')\n",
    "plt.legend()\n",
    "plt.show()"
   ]
  },
  {
   "cell_type": "code",
   "execution_count": null,
   "id": "1b495b38",
   "metadata": {},
   "outputs": [],
   "source": [
    "df_final.plot(x='MES', y=['RECEITA_PREVISTA', 'RECEITA_REALIZADA'], kind='line', marker='o')\n",
    "plt.show()"
   ]
  },
  {
   "cell_type": "code",
   "execution_count": null,
   "id": "7e12ce39",
   "metadata": {},
   "outputs": [],
   "source": [
    "import seaborn as sns"
   ]
  },
  {
   "cell_type": "code",
   "execution_count": null,
   "id": "020e36a4",
   "metadata": {},
   "outputs": [],
   "source": [
    "sns.lineplot(data=df_final, x='MES', y='RECEITA_PREVISTA', marker='o', label='Receita Prevista')\n",
    "sns.lineplot(data=df_final, x='MES', y='RECEITA_REALIZADA', marker='o', label='Receita Realizada')\n",
    "plt.show()"
   ]
  },
  {
   "cell_type": "code",
   "execution_count": null,
   "id": "408f810e",
   "metadata": {},
   "outputs": [],
   "source": [
    "import plotly.express as px"
   ]
  },
  {
   "cell_type": "code",
   "execution_count": null,
   "id": "4b0b883e",
   "metadata": {},
   "outputs": [],
   "source": [
    "fig = px.line(df_final, x='MES', y=['RECEITA_PREVISTA', 'RECEITA_REALIZADA'], markers=True, title='Receita Prevista vs Receita Realizada/Projetada - Fonte 500 (2025)')\n",
    "fig.show()"
   ]
  },
  {
   "cell_type": "code",
   "execution_count": null,
   "id": "620f3f7f",
   "metadata": {},
   "outputs": [],
   "source": [
    "import altair as alt"
   ]
  },
  {
   "cell_type": "code",
   "execution_count": null,
   "id": "1ecffa34",
   "metadata": {},
   "outputs": [],
   "source": [
    "df_melt = df_final.melt(id_vars=['MES'], value_vars=['RECEITA_PREVISTA', 'RECEITA_REALIZADA'], var_name='Tipo', value_name='Valor')\n",
    "\n",
    "chart = alt.Chart(df_melt).mark_line(point=True).encode(\n",
    "    x='MES:O',\n",
    "    y=alt.Y(\"Valor\", scale=alt.Scale(domain=[600_000_000, 1_400_000_000])),\n",
    "    color='Tipo:N',\n",
    "    tooltip=['MES', 'Tipo', 'Valor']\n",
    ").interactive().properties(title='Receita Prevista vs Receita Realizada/Projetada - Fonte 500 (2025)')\n",
    "\n",
    "\n",
    "chart.show()"
   ]
  },
  {
   "cell_type": "code",
   "execution_count": null,
   "id": "30485346",
   "metadata": {},
   "outputs": [],
   "source": [
    "import plotly.graph_objects as go\n",
    "\n",
    "fig = go.Figure()\n",
    "\n",
    "fig.add_trace(go.Scatter(x=df_final['MES'], y=df_final['RECEITA_PREVISTA'], mode='lines+markers+text', name='Receita Prevista',\n",
    "                         text=[f\"{v:,.2f}\" for v in df_final[\"RECEITA_PREVISTA\"]],\n",
    "    textposition=\"top center\", line=dict(color=\"blue\")))\n",
    "\n",
    "fig.add_trace(go.Scatter(x=df_final['MES'], y=df_final['RECEITA_REALIZADA'], mode='lines+markers+text', name='Receita Realizada',\n",
    "                            text=[f\"{v:,.2f}\" for v in df_final[\"RECEITA_REALIZADA\"]],\n",
    "        textposition=\"bottom center\", line=dict(color=\"orange\")))\n",
    "\n",
    "fig.add_trace(go.Bar(x=df_final['MES'], y=df_final['PERCENTUAL_REALIZADO'], name='Variação %', marker_color='lightgrey', yaxis='y2'))\n",
    "\n",
    "fig.update_layout(\n",
    "    title='Receita Prevista vs Receita Realizada/Projetada - Fonte 500 (2025)',\n",
    "    xaxis_title='Mês',\n",
    "    yaxis_title='Valor (R$)',\n",
    "    yaxis2=dict(\n",
    "        title='Variação %',\n",
    "        overlaying='y',\n",
    "        side='right'\n",
    "    ),\n",
    "    legend=dict(x=0.01, y=0.99, bgcolor='rgba(255,255,255,0)', bordercolor='rgba(255,255,255,0)')\n",
    ")\n",
    "\n",
    "fig.show()"
   ]
  },
  {
   "cell_type": "code",
   "execution_count": null,
   "id": "d26dcb45",
   "metadata": {},
   "outputs": [],
   "source": [
    "df_final = con.execute(\"\"\"\n",
    "    WITH fato AS (\n",
    "        SELECT \n",
    "            EXTRACT(MONTH FROM a.MES_REFERENCIA) AS MES,\n",
    "            SUM(a.VALOR_RECEITA_PREVISTA_BRUTA_COTAS_MENSAIS + a.VALOR_RECEITA_PREVISTA_DEDUCOES_COTAS_MENSAIS) AS RECEITA_PREVISTA,\n",
    "            SUM(a.VALOR_RECEITA_REALIZADA_BRUTA + a.VALOR_RECEITA_REALIZADA_DEDUCOES) AS RECEITA_REALIZADA_FATO\n",
    "        FROM STG_SIGEF__FATO__EXECUCAO_ORCAMENTARIA a\n",
    "        JOIN stg_sigef__dim__fonte_recurso b\n",
    "            ON a.ID_FONTE_RECURSO = b.ID_FONTE_RECURSO\n",
    "        WHERE b.FONTE_REDUZIDO = 500\n",
    "            AND a.SIGEF_DB = 'SIGEF2025'\n",
    "        GROUP BY EXTRACT(MONTH FROM a.MES_REFERENCIA)\n",
    "    ),\n",
    "    est AS (\n",
    "        SELECT \n",
    "            mes AS MES,\n",
    "            SUM(valor) AS RECEITA_REALIZADA_EST\n",
    "        FROM \"estimativa_cre_12-08-25\"\n",
    "        WHERE fonte_recurso = 500\n",
    "            AND ano = 2025\n",
    "        GROUP BY mes\n",
    "    )\n",
    "    SELECT\n",
    "        f.MES,\n",
    "        (f.RECEITA_PREVISTA) * .7495 AS RECEITA_PREVISTA,\n",
    "        (CASE \n",
    "            WHEN f.MES >= 8 THEN e.RECEITA_REALIZADA_EST\n",
    "            ELSE f.RECEITA_REALIZADA_FATO\n",
    "        END) * .7495 AS RECEITA_REALIZADA,\n",
    "        ((RECEITA_REALIZADA - RECEITA_PREVISTA) / RECEITA_PREVISTA) * 100 AS PERCENTUAL_REALIZADO,\n",
    "        (RECEITA_REALIZADA - RECEITA_PREVISTA) AS DIFERENCA_VALOR\n",
    "    FROM fato f\n",
    "    LEFT JOIN est e\n",
    "        ON f.MES = e.MES\n",
    "    ORDER BY f.MES\n",
    "\"\"\").df()\n",
    "\n",
    "\n",
    "print(\"Tabela 3 - Previsão Atualizada x Receita Arrecadada/Projetada 2025 - Fonte 500 - Poder Executivo líquido duodécimos\")\n",
    "df_final"
   ]
  },
  {
   "cell_type": "code",
   "execution_count": null,
   "id": "445c2d6d",
   "metadata": {},
   "outputs": [],
   "source": [
    "from pandasgui import show\n",
    "\n",
    "gui = show(df_final)\n"
   ]
  },
  {
   "cell_type": "code",
   "execution_count": null,
   "id": "c7529e22",
   "metadata": {},
   "outputs": [],
   "source": [
    "from openai import OpenAI\n",
    "\n",
    "client = OpenAI(\n",
    "    base_url=\"https://router.huggingface.co/v1\",\n",
    "    api_key=os.getenv(\"HF_TOKEN\"),\n",
    ")\n",
    "\n",
    "def consulta_ia(pergunta: str):\n",
    "    prompt = f\"\"\"\n",
    "    Você é um assistente que gera consultas SQL para DuckDB.\n",
    "    A tabela disponível se chama 'estimativa_cre' e tem as seguintes colunas:\n",
    "    {', '.join(df_duck.columns.tolist())}\n",
    "\n",
    "    Pergunta do usuário: {pergunta}\n",
    "\n",
    "    Responda apenas com a SQL.\n",
    "    \"\"\"\n",
    "\n",
    "    response = client.chat.completions.create(\n",
    "        model=\"meta-llama/Meta-Llama-3-8B-Instruct\",\n",
    "        messages=[{\"role\": \"user\", \"content\": prompt}],\n",
    "        max_tokens=300,\n",
    "        temperature=0,\n",
    "    )\n",
    "\n",
    "    query = response.choices[0].message.content.strip()\n",
    "\n",
    "    # Executa a query no DuckDB\n",
    "    try:\n",
    "        resultado = con.execute(query).fetchdf()\n",
    "        return query, resultado\n",
    "    except Exception as e:\n",
    "        return query, f\"Erro ao executar SQL: {e}\""
   ]
  },
  {
   "cell_type": "code",
   "execution_count": null,
   "id": "ea0ec056",
   "metadata": {},
   "outputs": [],
   "source": [
    "query, resultado = consulta_ia(\"O total arrecadado por ano da fonte 500\")\n",
    "print(\"Query usada:\\n\", query)\n",
    "print(\"\\nResultado:\\n\", resultado)"
   ]
  }
 ],
 "metadata": {
  "kernelspec": {
   "display_name": "condavenv",
   "language": "python",
   "name": "python3"
  },
  "language_info": {
   "codemirror_mode": {
    "name": "ipython",
    "version": 3
   },
   "file_extension": ".py",
   "mimetype": "text/x-python",
   "name": "python",
   "nbconvert_exporter": "python",
   "pygments_lexer": "ipython3",
   "version": "3.11.11"
  }
 },
 "nbformat": 4,
 "nbformat_minor": 5
}
